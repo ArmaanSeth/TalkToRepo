{
 "cells": [
  {
   "cell_type": "code",
   "execution_count": null,
   "metadata": {},
   "outputs": [],
   "source": [
    "chat_history=\"History\"\n",
    "chat_history+=f\"\"\"\\nHuman: 1st query\"\"\"\n",
    "print(chat_history)\n",
    "print(\"===================================\")\n",
    "res=\"1st query response\"\n",
    "chat_history+=f\"\"\"\\nAssistant: {res}\"\"\"\n",
    "print(chat_history)"
   ]
  },
  {
   "cell_type": "code",
   "execution_count": 1,
   "metadata": {},
   "outputs": [
    {
     "name": "stderr",
     "output_type": "stream",
     "text": [
      "c:\\ArmaanSeth\\python\\TalkToRepo\\.venv\\Lib\\site-packages\\tqdm\\auto.py:21: TqdmWarning: IProgress not found. Please update jupyter and ipywidgets. See https://ipywidgets.readthedocs.io/en/stable/user_install.html\n",
      "  from .autonotebook import tqdm as notebook_tqdm\n"
     ]
    },
    {
     "name": "stdout",
     "output_type": "stream",
     "text": [
      "Building Engine....\n",
      "Calling prepare_vectorstore....\n",
      "Preparing Vectorstore....\n",
      "Vectorstore prepared successfully....\n",
      "Calling delete_repo....\n",
      "Deleting Repository....\n",
      "Calling prepare_chain....\n",
      "Preparing Chain....\n",
      "Chain Created successfully....\n"
     ]
    }
   ],
   "source": [
    "from utils import TalkToRepo\n",
    "\n",
    "repo = TalkToRepo()\n",
    "repo.build_engine(\"https://github.com/ArmaanSeth/Chainlit_RAG.git\")"
   ]
  },
  {
   "cell_type": "code",
   "execution_count": 3,
   "metadata": {},
   "outputs": [
    {
     "data": {
      "text/plain": [
       "'The number of files in the repository is not mentioned in the context.'"
      ]
     },
     "execution_count": 3,
     "metadata": {},
     "output_type": "execute_result"
    }
   ],
   "source": [
    "repo.get_response(\"How many files are there in the repository?\")"
   ]
  },
  {
   "cell_type": "code",
   "execution_count": null,
   "metadata": {},
   "outputs": [],
   "source": [
    "import os\n",
    "from langchain.document_loaders import TextLoader\n",
    "from langchain.text_splitter import CharacterTextSplitter\n",
    "from langchain.embeddings import HuggingFaceBgeEmbeddings\n",
    "from langchain_community.vectorstores.faiss import FAISS\n",
    "\n",
    "embeddings = HuggingFaceBgeEmbeddings(model_name=\"BAAI/bge-small-en\", model_kwargs={\"device\": \"cpu\"}, encode_kwargs={\"normalize_embeddings\": True})\n",
    "docs=[]\n",
    "allowed_extensions = [\".ipynb\", \".py\", \".md\"]\n",
    "repo_name=\"Chainlit_RAG\"\n",
    "for root, dirs, files in os.walk(repo_name):\n",
    "    for file in files:\n",
    "        if file.endswith(tuple(allowed_extensions)):\n",
    "            loader=TextLoader(os.path.join(root, file), encoding=\"utf-8\")\n",
    "            docs.extend(loader.load_and_split())"
   ]
  },
  {
   "cell_type": "code",
   "execution_count": null,
   "metadata": {},
   "outputs": [],
   "source": [
    "docs"
   ]
  },
  {
   "cell_type": "code",
   "execution_count": null,
   "metadata": {},
   "outputs": [],
   "source": [
    "text_splitter=CharacterTextSplitter(chunk_size=1024, chunk_overlap=200)\n",
    "chunks=text_splitter.split_documents(docs)"
   ]
  },
  {
   "cell_type": "code",
   "execution_count": null,
   "metadata": {},
   "outputs": [],
   "source": [
    "chunks"
   ]
  },
  {
   "cell_type": "code",
   "execution_count": null,
   "metadata": {},
   "outputs": [],
   "source": [
    "vectorstore=FAISS.from_documents(documents=chunks,embedding=embeddings)"
   ]
  },
  {
   "cell_type": "code",
   "execution_count": null,
   "metadata": {},
   "outputs": [],
   "source": []
  }
 ],
 "metadata": {
  "kernelspec": {
   "display_name": ".venv",
   "language": "python",
   "name": "python3"
  },
  "language_info": {
   "codemirror_mode": {
    "name": "ipython",
    "version": 3
   },
   "file_extension": ".py",
   "mimetype": "text/x-python",
   "name": "python",
   "nbconvert_exporter": "python",
   "pygments_lexer": "ipython3",
   "version": "3.12.4"
  }
 },
 "nbformat": 4,
 "nbformat_minor": 2
}
